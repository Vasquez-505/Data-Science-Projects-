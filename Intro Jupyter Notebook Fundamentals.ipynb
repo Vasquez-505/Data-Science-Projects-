{
 "cells": [
  {
   "cell_type": "markdown",
   "id": "8d022011-5e2a-4089-a430-2ed396d898bb",
   "metadata": {},
   "source": [
    "# Data Science Tools and Ecossystem"
   ]
  },
  {
   "cell_type": "markdown",
   "id": "bf46997e-70fc-43b6-8f36-355497870137",
   "metadata": {},
   "source": [
    "In this notebook, Data Science Tools and Ecosystem are summarized."
   ]
  },
  {
   "cell_type": "markdown",
   "id": "aebf1ea6-9564-4702-8d9a-0d57b1446438",
   "metadata": {},
   "source": [
    "__Objectives__\n",
    "- List popular languages data scientists use \n",
    "- List commonly used libraries by data scientists \n",
    "- Do a one column table with tools data scientists use \n",
    "- Do simple aritmetic expressions"
   ]
  },
  {
   "cell_type": "markdown",
   "id": "1d7ab802-8854-4d15-b3c5-e754ed72246e",
   "metadata": {},
   "source": [
    "Some of the popular languages that Data Scientists use are: \n",
    "1. python\n",
    "2. R \n",
    "3. java \n",
    "4. SQL"
   ]
  },
  {
   "cell_type": "markdown",
   "id": "41ce48b4-21f5-46cc-934a-8456423081de",
   "metadata": {},
   "source": [
    "Some of the commonly used libraries used by Data Scientists include:\n",
    "1. Numpy\n",
    "2. Pandas\n",
    "3. Matplotlib / Seaborn\n",
    "4. Scikit-learn \n"
   ]
  },
  {
   "cell_type": "markdown",
   "id": "bbea8356-58fb-42a6-9e92-5efb7f68ebf7",
   "metadata": {},
   "source": [
    "|Data Science Tools|\n",
    "|------------------|\n",
    "|Jupyter Notebook|\n",
    "|RStudio|\n",
    "|Apache Zeppelin|"
   ]
  },
  {
   "cell_type": "markdown",
   "id": "515d7bb2-9c5e-402b-9afb-18d1ec58014a",
   "metadata": {},
   "source": [
    "Below are a few examples of evaluating arithmetic expressions in Python"
   ]
  },
  {
   "cell_type": "code",
   "execution_count": 1,
   "id": "42e9396e-bf26-43c5-807a-d23c0d3be6b3",
   "metadata": {},
   "outputs": [
    {
     "data": {
      "text/plain": [
       "17"
      ]
     },
     "execution_count": 1,
     "metadata": {},
     "output_type": "execute_result"
    }
   ],
   "source": [
    "# This is a simple arithmetic expression to multiply then add intergers \n",
    "(3*4)+5"
   ]
  },
  {
   "cell_type": "code",
   "execution_count": 2,
   "id": "67e37592-b2fb-4e8c-957a-a3fd507c8133",
   "metadata": {},
   "outputs": [
    {
     "data": {
      "text/plain": [
       "3.3333333333333335"
      ]
     },
     "execution_count": 2,
     "metadata": {},
     "output_type": "execute_result"
    }
   ],
   "source": [
    "# This will convert 200 minutes to hours by diving by 60\n",
    "200/60"
   ]
  },
  {
   "cell_type": "markdown",
   "id": "6d61a461-700c-42a9-ab1c-3989c5773e70",
   "metadata": {},
   "source": [
    "## Author\n",
    "Pedro Vasques"
   ]
  },
  {
   "cell_type": "code",
   "execution_count": null,
   "id": "ffe0fcd2-5eb8-40b4-b5e0-ef79ebd9751a",
   "metadata": {},
   "outputs": [],
   "source": []
  }
 ],
 "metadata": {
  "kernelspec": {
   "display_name": "Python [conda env:base] *",
   "language": "python",
   "name": "conda-base-py"
  },
  "language_info": {
   "codemirror_mode": {
    "name": "ipython",
    "version": 3
   },
   "file_extension": ".py",
   "mimetype": "text/x-python",
   "name": "python",
   "nbconvert_exporter": "python",
   "pygments_lexer": "ipython3",
   "version": "3.13.5"
  }
 },
 "nbformat": 4,
 "nbformat_minor": 5
}
